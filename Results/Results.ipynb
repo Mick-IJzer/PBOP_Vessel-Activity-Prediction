{
 "cells": [
  {
   "cell_type": "markdown",
   "metadata": {},
   "source": [
    "# IMPORTS"
   ]
  },
  {
   "cell_type": "code",
   "execution_count": 1,
   "metadata": {},
   "outputs": [],
   "source": [
    "import pandas as pd\n",
    "import numpy as np\n",
    "\n",
    "from sklearn.metrics import mean_squared_error as mse\n",
    "from sklearn.metrics import f1_score\n",
    "from scipy.special import softmax\n",
    "\n",
    "import matplotlib.pyplot as plt\n",
    "%matplotlib inline\n",
    "\n",
    "import warnings\n",
    "warnings.filterwarnings(\"ignore\")"
   ]
  },
  {
   "cell_type": "markdown",
   "metadata": {},
   "source": [
    "# PORT PREDICTION\n",
    "- Load the model and baseline predictions\n",
    "- Process each and get the results"
   ]
  },
  {
   "cell_type": "code",
   "execution_count": 2,
   "metadata": {},
   "outputs": [],
   "source": [
    "results = pd.read_csv('port_prediction_results.csv')\n",
    "baseline = pd.read_csv('BASELINE_port_prediction_results.csv')"
   ]
  },
  {
   "cell_type": "code",
   "execution_count": 3,
   "metadata": {},
   "outputs": [
    {
     "data": {
      "text/plain": [
       "(0.0, 1.0)"
      ]
     },
     "execution_count": 3,
     "metadata": {},
     "output_type": "execute_result"
    },
    {
     "data": {
      "image/png": "[encoded data removed]",
      "text/plain": [
       "<Figure size 432x288 with 1 Axes>"
      ]
     },
     "metadata": {
      "needs_background": "light"
     },
     "output_type": "display_data"
    }
   ],
   "source": [
    "ranks = results[results['target'] == 1]\n",
    "\n",
    "ranks['count'] = 1/len(ranks)\n",
    "ranks = ranks.sort_values('rank')\n",
    "\n",
    "ranks['cumsum'] = ranks['count'].cumsum()\n",
    "ranks = pd.pivot_table(ranks, values='cumsum', index='rank', aggfunc='max').reset_index()\n",
    "\n",
    "ranks = ranks.append({'rank':0, 'cumsum':0}, ignore_index=True).sort_values('rank', ascending=True).reset_index(drop=True)\n",
    "\n",
    "plt.plot(ranks['rank'], ranks['cumsum'])\n",
    "plt.ylim(0, 1)"
   ]
  },
  {
   "cell_type": "code",
   "execution_count": 4,
   "metadata": {},
   "outputs": [
    {
     "data": {
      "text/html": [
       "<div>\n",
       "<style scoped>\n",
       "    .dataframe tbody tr th:only-of-type {\n",
       "        vertical-align: middle;\n",
       "    }\n",
       "\n",
       "    .dataframe tbody tr th {\n",
       "        vertical-align: top;\n",
       "    }\n",
       "\n",
       "    .dataframe thead th {\n",
       "        text-align: right;\n",
       "    }\n",
       "</style>\n",
       "<table border=\"1\" class=\"dataframe\">\n",
       "  <thead>\n",
       "    <tr style=\"text-align: right;\">\n",
       "      <th></th>\n",
       "      <th>rank</th>\n",
       "      <th>cumsum</th>\n",
       "    </tr>\n",
       "  </thead>\n",
       "  <tbody>\n",
       "    <tr>\n",
       "      <th>0</th>\n",
       "      <td>0</td>\n",
       "      <td>0.000000</td>\n",
       "    </tr>\n",
       "    <tr>\n",
       "      <th>1</th>\n",
       "      <td>1</td>\n",
       "      <td>0.384000</td>\n",
       "    </tr>\n",
       "    <tr>\n",
       "      <th>2</th>\n",
       "      <td>2</td>\n",
       "      <td>0.498667</td>\n",
       "    </tr>\n",
       "    <tr>\n",
       "      <th>3</th>\n",
       "      <td>3</td>\n",
       "      <td>0.550000</td>\n",
       "    </tr>\n",
       "    <tr>\n",
       "      <th>4</th>\n",
       "      <td>4</td>\n",
       "      <td>0.581333</td>\n",
       "    </tr>\n",
       "    <tr>\n",
       "      <th>5</th>\n",
       "      <td>5</td>\n",
       "      <td>0.601333</td>\n",
       "    </tr>\n",
       "    <tr>\n",
       "      <th>6</th>\n",
       "      <td>6</td>\n",
       "      <td>0.616000</td>\n",
       "    </tr>\n",
       "    <tr>\n",
       "      <th>7</th>\n",
       "      <td>7</td>\n",
       "      <td>0.628667</td>\n",
       "    </tr>\n",
       "    <tr>\n",
       "      <th>8</th>\n",
       "      <td>8</td>\n",
       "      <td>0.638667</td>\n",
       "    </tr>\n",
       "    <tr>\n",
       "      <th>9</th>\n",
       "      <td>9</td>\n",
       "      <td>0.644667</td>\n",
       "    </tr>\n",
       "    <tr>\n",
       "      <th>10</th>\n",
       "      <td>10</td>\n",
       "      <td>0.654000</td>\n",
       "    </tr>\n",
       "    <tr>\n",
       "      <th>11</th>\n",
       "      <td>11</td>\n",
       "      <td>0.663333</td>\n",
       "    </tr>\n",
       "    <tr>\n",
       "      <th>12</th>\n",
       "      <td>12</td>\n",
       "      <td>0.675333</td>\n",
       "    </tr>\n",
       "    <tr>\n",
       "      <th>13</th>\n",
       "      <td>13</td>\n",
       "      <td>0.682667</td>\n",
       "    </tr>\n",
       "    <tr>\n",
       "      <th>14</th>\n",
       "      <td>14</td>\n",
       "      <td>0.690000</td>\n",
       "    </tr>\n",
       "  </tbody>\n",
       "</table>\n",
       "</div>"
      ],
      "text/plain": [
       "    rank    cumsum\n",
       "0      0  0.000000\n",
       "1      1  0.384000\n",
       "2      2  0.498667\n",
       "3      3  0.550000\n",
       "4      4  0.581333\n",
       "5      5  0.601333\n",
       "6      6  0.616000\n",
       "7      7  0.628667\n",
       "8      8  0.638667\n",
       "9      9  0.644667\n",
       "10    10  0.654000\n",
       "11    11  0.663333\n",
       "12    12  0.675333\n",
       "13    13  0.682667\n",
       "14    14  0.690000"
      ]
     },
     "execution_count": 4,
     "metadata": {},
     "output_type": "execute_result"
    }
   ],
   "source": [
    "ranks.head(15)"
   ]
  },
  {
   "cell_type": "code",
   "execution_count": 5,
   "metadata": {},
   "outputs": [
    {
     "data": {
      "text/html": [
       "<div>\n",
       "<style scoped>\n",
       "    .dataframe tbody tr th:only-of-type {\n",
       "        vertical-align: middle;\n",
       "    }\n",
       "\n",
       "    .dataframe tbody tr th {\n",
       "        vertical-align: top;\n",
       "    }\n",
       "\n",
       "    .dataframe thead th {\n",
       "        text-align: right;\n",
       "    }\n",
       "</style>\n",
       "<table border=\"1\" class=\"dataframe\">\n",
       "  <thead>\n",
       "    <tr style=\"text-align: right;\">\n",
       "      <th></th>\n",
       "      <th>identifier</th>\n",
       "      <th>portname</th>\n",
       "      <th>port_lat</th>\n",
       "      <th>port_long</th>\n",
       "      <th>target_portname</th>\n",
       "      <th>target_port_lat</th>\n",
       "      <th>target_port_long</th>\n",
       "      <th>rank</th>\n",
       "      <th>prediction</th>\n",
       "      <th>target</th>\n",
       "      <th>probability</th>\n",
       "    </tr>\n",
       "  </thead>\n",
       "  <tbody>\n",
       "    <tr>\n",
       "      <th>0</th>\n",
       "      <td>512445000_3</td>\n",
       "      <td>Picton</td>\n",
       "      <td>-41.2936</td>\n",
       "      <td>174.007</td>\n",
       "      <td>Wellington</td>\n",
       "      <td>-41.3202</td>\n",
       "      <td>174.807</td>\n",
       "      <td>1</td>\n",
       "      <td>3.712646</td>\n",
       "      <td>1.0</td>\n",
       "      <td>0.970393</td>\n",
       "    </tr>\n",
       "    <tr>\n",
       "      <th>1</th>\n",
       "      <td>512445000_3</td>\n",
       "      <td>Picton</td>\n",
       "      <td>-41.2936</td>\n",
       "      <td>174.007</td>\n",
       "      <td>Port Taranaki</td>\n",
       "      <td>-39.0609</td>\n",
       "      <td>174.027</td>\n",
       "      <td>2</td>\n",
       "      <td>-1.624895</td>\n",
       "      <td>0.0</td>\n",
       "      <td>0.004665</td>\n",
       "    </tr>\n",
       "    <tr>\n",
       "      <th>2</th>\n",
       "      <td>512445000_3</td>\n",
       "      <td>Picton</td>\n",
       "      <td>-41.2936</td>\n",
       "      <td>174.007</td>\n",
       "      <td>Nelson</td>\n",
       "      <td>-41.2845</td>\n",
       "      <td>173.237</td>\n",
       "      <td>3</td>\n",
       "      <td>-2.440895</td>\n",
       "      <td>0.0</td>\n",
       "      <td>0.002063</td>\n",
       "    </tr>\n",
       "    <tr>\n",
       "      <th>3</th>\n",
       "      <td>512445000_3</td>\n",
       "      <td>Picton</td>\n",
       "      <td>-41.2936</td>\n",
       "      <td>174.007</td>\n",
       "      <td>Gisborne</td>\n",
       "      <td>-38.6759</td>\n",
       "      <td>177.989</td>\n",
       "      <td>4</td>\n",
       "      <td>-2.486069</td>\n",
       "      <td>0.0</td>\n",
       "      <td>0.001972</td>\n",
       "    </tr>\n",
       "    <tr>\n",
       "      <th>4</th>\n",
       "      <td>512445000_3</td>\n",
       "      <td>Picton</td>\n",
       "      <td>-41.2936</td>\n",
       "      <td>174.007</td>\n",
       "      <td>Auckland</td>\n",
       "      <td>-36.8653</td>\n",
       "      <td>174.790</td>\n",
       "      <td>5</td>\n",
       "      <td>-2.518690</td>\n",
       "      <td>0.0</td>\n",
       "      <td>0.001909</td>\n",
       "    </tr>\n",
       "    <tr>\n",
       "      <th>1601</th>\n",
       "      <td>512445000_6</td>\n",
       "      <td>Picton</td>\n",
       "      <td>-41.2936</td>\n",
       "      <td>174.007</td>\n",
       "      <td>Wellington</td>\n",
       "      <td>-41.3202</td>\n",
       "      <td>174.807</td>\n",
       "      <td>1</td>\n",
       "      <td>3.709972</td>\n",
       "      <td>1.0</td>\n",
       "      <td>0.969663</td>\n",
       "    </tr>\n",
       "    <tr>\n",
       "      <th>1602</th>\n",
       "      <td>512445000_6</td>\n",
       "      <td>Picton</td>\n",
       "      <td>-41.2936</td>\n",
       "      <td>174.007</td>\n",
       "      <td>Port Taranaki</td>\n",
       "      <td>-39.0609</td>\n",
       "      <td>174.027</td>\n",
       "      <td>2</td>\n",
       "      <td>-1.640135</td>\n",
       "      <td>0.0</td>\n",
       "      <td>0.004604</td>\n",
       "    </tr>\n",
       "    <tr>\n",
       "      <th>1603</th>\n",
       "      <td>512445000_6</td>\n",
       "      <td>Picton</td>\n",
       "      <td>-41.2936</td>\n",
       "      <td>174.007</td>\n",
       "      <td>Auckland</td>\n",
       "      <td>-36.8653</td>\n",
       "      <td>174.790</td>\n",
       "      <td>3</td>\n",
       "      <td>-2.437718</td>\n",
       "      <td>0.0</td>\n",
       "      <td>0.002074</td>\n",
       "    </tr>\n",
       "    <tr>\n",
       "      <th>1604</th>\n",
       "      <td>512445000_6</td>\n",
       "      <td>Picton</td>\n",
       "      <td>-41.2936</td>\n",
       "      <td>174.007</td>\n",
       "      <td>Gisborne</td>\n",
       "      <td>-38.6759</td>\n",
       "      <td>177.989</td>\n",
       "      <td>4</td>\n",
       "      <td>-2.437733</td>\n",
       "      <td>0.0</td>\n",
       "      <td>0.002074</td>\n",
       "    </tr>\n",
       "    <tr>\n",
       "      <th>1605</th>\n",
       "      <td>512445000_6</td>\n",
       "      <td>Picton</td>\n",
       "      <td>-41.2936</td>\n",
       "      <td>174.007</td>\n",
       "      <td>Nelson</td>\n",
       "      <td>-41.2845</td>\n",
       "      <td>173.237</td>\n",
       "      <td>5</td>\n",
       "      <td>-2.443569</td>\n",
       "      <td>0.0</td>\n",
       "      <td>0.002061</td>\n",
       "    </tr>\n",
       "    <tr>\n",
       "      <th>3202</th>\n",
       "      <td>512445000_7</td>\n",
       "      <td>Picton</td>\n",
       "      <td>-41.2936</td>\n",
       "      <td>174.007</td>\n",
       "      <td>Wellington</td>\n",
       "      <td>-41.3202</td>\n",
       "      <td>174.807</td>\n",
       "      <td>1</td>\n",
       "      <td>3.709943</td>\n",
       "      <td>1.0</td>\n",
       "      <td>0.979015</td>\n",
       "    </tr>\n",
       "    <tr>\n",
       "      <th>3203</th>\n",
       "      <td>512445000_7</td>\n",
       "      <td>Picton</td>\n",
       "      <td>-41.2936</td>\n",
       "      <td>174.007</td>\n",
       "      <td>Nelson</td>\n",
       "      <td>-41.2845</td>\n",
       "      <td>173.237</td>\n",
       "      <td>2</td>\n",
       "      <td>-2.430580</td>\n",
       "      <td>0.0</td>\n",
       "      <td>0.002109</td>\n",
       "    </tr>\n",
       "    <tr>\n",
       "      <th>3204</th>\n",
       "      <td>512445000_7</td>\n",
       "      <td>Picton</td>\n",
       "      <td>-41.2936</td>\n",
       "      <td>174.007</td>\n",
       "      <td>Port Taranaki</td>\n",
       "      <td>-39.0609</td>\n",
       "      <td>174.027</td>\n",
       "      <td>3</td>\n",
       "      <td>-2.528976</td>\n",
       "      <td>0.0</td>\n",
       "      <td>0.001911</td>\n",
       "    </tr>\n",
       "    <tr>\n",
       "      <th>3205</th>\n",
       "      <td>512445000_7</td>\n",
       "      <td>Picton</td>\n",
       "      <td>-41.2936</td>\n",
       "      <td>174.007</td>\n",
       "      <td>Auckland</td>\n",
       "      <td>-36.8653</td>\n",
       "      <td>174.790</td>\n",
       "      <td>4</td>\n",
       "      <td>-2.554956</td>\n",
       "      <td>0.0</td>\n",
       "      <td>0.001862</td>\n",
       "    </tr>\n",
       "    <tr>\n",
       "      <th>3206</th>\n",
       "      <td>512445000_7</td>\n",
       "      <td>Picton</td>\n",
       "      <td>-41.2936</td>\n",
       "      <td>174.007</td>\n",
       "      <td>Picton</td>\n",
       "      <td>-41.2936</td>\n",
       "      <td>174.007</td>\n",
       "      <td>5</td>\n",
       "      <td>-2.602285</td>\n",
       "      <td>0.0</td>\n",
       "      <td>0.001776</td>\n",
       "    </tr>\n",
       "    <tr>\n",
       "      <th>4803</th>\n",
       "      <td>512445000_8</td>\n",
       "      <td>Wellington</td>\n",
       "      <td>-41.3202</td>\n",
       "      <td>174.807</td>\n",
       "      <td>Picton</td>\n",
       "      <td>-41.2936</td>\n",
       "      <td>174.007</td>\n",
       "      <td>1</td>\n",
       "      <td>3.291804</td>\n",
       "      <td>1.0</td>\n",
       "      <td>0.947974</td>\n",
       "    </tr>\n",
       "    <tr>\n",
       "      <th>4804</th>\n",
       "      <td>512445000_8</td>\n",
       "      <td>Wellington</td>\n",
       "      <td>-41.3202</td>\n",
       "      <td>174.807</td>\n",
       "      <td>Nelson</td>\n",
       "      <td>-41.2845</td>\n",
       "      <td>173.237</td>\n",
       "      <td>2</td>\n",
       "      <td>-0.892198</td>\n",
       "      <td>0.0</td>\n",
       "      <td>0.014445</td>\n",
       "    </tr>\n",
       "    <tr>\n",
       "      <th>4805</th>\n",
       "      <td>512445000_8</td>\n",
       "      <td>Wellington</td>\n",
       "      <td>-41.3202</td>\n",
       "      <td>174.807</td>\n",
       "      <td>Wellington</td>\n",
       "      <td>-41.3202</td>\n",
       "      <td>174.807</td>\n",
       "      <td>3</td>\n",
       "      <td>-0.943714</td>\n",
       "      <td>0.0</td>\n",
       "      <td>0.013719</td>\n",
       "    </tr>\n",
       "    <tr>\n",
       "      <th>4806</th>\n",
       "      <td>512445000_8</td>\n",
       "      <td>Wellington</td>\n",
       "      <td>-41.3202</td>\n",
       "      <td>174.807</td>\n",
       "      <td>Mount Maunganui</td>\n",
       "      <td>-37.6382</td>\n",
       "      <td>176.176</td>\n",
       "      <td>4</td>\n",
       "      <td>-2.151365</td>\n",
       "      <td>0.0</td>\n",
       "      <td>0.004101</td>\n",
       "    </tr>\n",
       "    <tr>\n",
       "      <th>4807</th>\n",
       "      <td>512445000_8</td>\n",
       "      <td>Wellington</td>\n",
       "      <td>-41.3202</td>\n",
       "      <td>174.807</td>\n",
       "      <td>Napier</td>\n",
       "      <td>-39.4812</td>\n",
       "      <td>176.892</td>\n",
       "      <td>5</td>\n",
       "      <td>-2.288743</td>\n",
       "      <td>0.0</td>\n",
       "      <td>0.003574</td>\n",
       "    </tr>\n",
       "    <tr>\n",
       "      <th>6404</th>\n",
       "      <td>512445000_9</td>\n",
       "      <td>Wellington</td>\n",
       "      <td>-41.3202</td>\n",
       "      <td>174.807</td>\n",
       "      <td>Picton</td>\n",
       "      <td>-41.2936</td>\n",
       "      <td>174.007</td>\n",
       "      <td>1</td>\n",
       "      <td>3.509854</td>\n",
       "      <td>1.0</td>\n",
       "      <td>0.950097</td>\n",
       "    </tr>\n",
       "    <tr>\n",
       "      <th>6405</th>\n",
       "      <td>512445000_9</td>\n",
       "      <td>Wellington</td>\n",
       "      <td>-41.3202</td>\n",
       "      <td>174.807</td>\n",
       "      <td>Wellington</td>\n",
       "      <td>-41.3202</td>\n",
       "      <td>174.807</td>\n",
       "      <td>2</td>\n",
       "      <td>-0.719063</td>\n",
       "      <td>0.0</td>\n",
       "      <td>0.013841</td>\n",
       "    </tr>\n",
       "    <tr>\n",
       "      <th>6406</th>\n",
       "      <td>512445000_9</td>\n",
       "      <td>Wellington</td>\n",
       "      <td>-41.3202</td>\n",
       "      <td>174.807</td>\n",
       "      <td>Nelson</td>\n",
       "      <td>-41.2845</td>\n",
       "      <td>173.237</td>\n",
       "      <td>3</td>\n",
       "      <td>-0.793570</td>\n",
       "      <td>0.0</td>\n",
       "      <td>0.012847</td>\n",
       "    </tr>\n",
       "    <tr>\n",
       "      <th>6407</th>\n",
       "      <td>512445000_9</td>\n",
       "      <td>Wellington</td>\n",
       "      <td>-41.3202</td>\n",
       "      <td>174.807</td>\n",
       "      <td>Mount Maunganui</td>\n",
       "      <td>-37.6382</td>\n",
       "      <td>176.176</td>\n",
       "      <td>4</td>\n",
       "      <td>-2.105179</td>\n",
       "      <td>0.0</td>\n",
       "      <td>0.003461</td>\n",
       "    </tr>\n",
       "    <tr>\n",
       "      <th>6408</th>\n",
       "      <td>512445000_9</td>\n",
       "      <td>Wellington</td>\n",
       "      <td>-41.3202</td>\n",
       "      <td>174.807</td>\n",
       "      <td>Napier</td>\n",
       "      <td>-39.4812</td>\n",
       "      <td>176.892</td>\n",
       "      <td>5</td>\n",
       "      <td>-2.169799</td>\n",
       "      <td>0.0</td>\n",
       "      <td>0.003244</td>\n",
       "    </tr>\n",
       "  </tbody>\n",
       "</table>\n",
       "</div>"
      ],
      "text/plain": [
       "       identifier    portname  port_lat  port_long  target_portname  \\\n",
       "0     512445000_3      Picton  -41.2936    174.007       Wellington   \n",
       "1     512445000_3      Picton  -41.2936    174.007    Port Taranaki   \n",
       "2     512445000_3      Picton  -41.2936    174.007           Nelson   \n",
       "3     512445000_3      Picton  -41.2936    174.007         Gisborne   \n",
       "4     512445000_3      Picton  -41.2936    174.007         Auckland   \n",
       "1601  512445000_6      Picton  -41.2936    174.007       Wellington   \n",
       "1602  512445000_6      Picton  -41.2936    174.007    Port Taranaki   \n",
       "1603  512445000_6      Picton  -41.2936    174.007         Auckland   \n",
       "1604  512445000_6      Picton  -41.2936    174.007         Gisborne   \n",
       "1605  512445000_6      Picton  -41.2936    174.007           Nelson   \n",
       "3202  512445000_7      Picton  -41.2936    174.007       Wellington   \n",
       "3203  512445000_7      Picton  -41.2936    174.007           Nelson   \n",
       "3204  512445000_7      Picton  -41.2936    174.007    Port Taranaki   \n",
       "3205  512445000_7      Picton  -41.2936    174.007         Auckland   \n",
       "3206  512445000_7      Picton  -41.2936    174.007           Picton   \n",
       "4803  512445000_8  Wellington  -41.3202    174.807           Picton   \n",
       "4804  512445000_8  Wellington  -41.3202    174.807           Nelson   \n",
       "4805  512445000_8  Wellington  -41.3202    174.807       Wellington   \n",
       "4806  512445000_8  Wellington  -41.3202    174.807  Mount Maunganui   \n",
       "4807  512445000_8  Wellington  -41.3202    174.807           Napier   \n",
       "6404  512445000_9  Wellington  -41.3202    174.807           Picton   \n",
       "6405  512445000_9  Wellington  -41.3202    174.807       Wellington   \n",
       "6406  512445000_9  Wellington  -41.3202    174.807           Nelson   \n",
       "6407  512445000_9  Wellington  -41.3202    174.807  Mount Maunganui   \n",
       "6408  512445000_9  Wellington  -41.3202    174.807           Napier   \n",
       "\n",
       "      target_port_lat  target_port_long  rank  prediction  target  probability  \n",
       "0            -41.3202           174.807     1    3.712646     1.0     0.970393  \n",
       "1            -39.0609           174.027     2   -1.624895     0.0     0.004665  \n",
       "2            -41.2845           173.237     3   -2.440895     0.0     0.002063  \n",
       "3            -38.6759           177.989     4   -2.486069     0.0     0.001972  \n",
       "4            -36.8653           174.790     5   -2.518690     0.0     0.001909  \n",
       "1601         -41.3202           174.807     1    3.709972     1.0     0.969663  \n",
       "1602         -39.0609           174.027     2   -1.640135     0.0     0.004604  \n",
       "1603         -36.8653           174.790     3   -2.437718     0.0     0.002074  \n",
       "1604         -38.6759           177.989     4   -2.437733     0.0     0.002074  \n",
       "1605         -41.2845           173.237     5   -2.443569     0.0     0.002061  \n",
       "3202         -41.3202           174.807     1    3.709943     1.0     0.979015  \n",
       "3203         -41.2845           173.237     2   -2.430580     0.0     0.002109  \n",
       "3204         -39.0609           174.027     3   -2.528976     0.0     0.001911  \n",
       "3205         -36.8653           174.790     4   -2.554956     0.0     0.001862  \n",
       "3206         -41.2936           174.007     5   -2.602285     0.0     0.001776  \n",
       "4803         -41.2936           174.007     1    3.291804     1.0     0.947974  \n",
       "4804         -41.2845           173.237     2   -0.892198     0.0     0.014445  \n",
       "4805         -41.3202           174.807     3   -0.943714     0.0     0.013719  \n",
       "4806         -37.6382           176.176     4   -2.151365     0.0     0.004101  \n",
       "4807         -39.4812           176.892     5   -2.288743     0.0     0.003574  \n",
       "6404         -41.2936           174.007     1    3.509854     1.0     0.950097  \n",
       "6405         -41.3202           174.807     2   -0.719063     0.0     0.013841  \n",
       "6406         -41.2845           173.237     3   -0.793570     0.0     0.012847  \n",
       "6407         -37.6382           176.176     4   -2.105179     0.0     0.003461  \n",
       "6408         -39.4812           176.892     5   -2.169799     0.0     0.003244  "
      ]
     },
     "execution_count": 5,
     "metadata": {},
     "output_type": "execute_result"
    }
   ],
   "source": [
    "ports = pd.read_parquet('ports_prep.parquet.gzip').set_index('port_index')\n",
    "info = pd.merge(results, ports[['portname', 'port_lat', 'port_long']],\n",
    "        how='left', left_on='port_index', right_index=True)\n",
    "\n",
    "ports.columns = ['target_' + column for column in ports.columns]\n",
    "info = pd.merge(info, ports[['target_portname', 'target_port_lat', 'target_port_long']],\n",
    "        how='left', left_on='target_port_index', right_index=True)\n",
    "\n",
    "info = info[['identifier', 'portname', 'port_lat', 'port_long',\n",
    "             'target_portname', 'target_port_lat', 'target_port_long', \n",
    "             'rank', 'prediction', 'target']]\n",
    "\n",
    "info['probability'] = info.groupby('identifier')['prediction'].apply(lambda x: softmax(x))\n",
    "\n",
    "info.groupby('identifier').head(5).head(25)"
   ]
  },
  {
   "cell_type": "code",
   "execution_count": 6,
   "metadata": {},
   "outputs": [
    {
     "data": {
      "text/html": [
       "<div>\n",
       "<style scoped>\n",
       "    .dataframe tbody tr th:only-of-type {\n",
       "        vertical-align: middle;\n",
       "    }\n",
       "\n",
       "    .dataframe tbody tr th {\n",
       "        vertical-align: top;\n",
       "    }\n",
       "\n",
       "    .dataframe thead th {\n",
       "        text-align: right;\n",
       "    }\n",
       "</style>\n",
       "<table border=\"1\" class=\"dataframe\">\n",
       "  <thead>\n",
       "    <tr style=\"text-align: right;\">\n",
       "      <th></th>\n",
       "      <th>target_portname</th>\n",
       "      <th>target_port_lat</th>\n",
       "      <th>target_port_long</th>\n",
       "      <th>pred_portname</th>\n",
       "      <th>pred_port_lat</th>\n",
       "      <th>pred_port_long</th>\n",
       "      <th>probability</th>\n",
       "      <th>distance</th>\n",
       "    </tr>\n",
       "    <tr>\n",
       "      <th>identifier</th>\n",
       "      <th></th>\n",
       "      <th></th>\n",
       "      <th></th>\n",
       "      <th></th>\n",
       "      <th></th>\n",
       "      <th></th>\n",
       "      <th></th>\n",
       "      <th></th>\n",
       "    </tr>\n",
       "  </thead>\n",
       "  <tbody>\n",
       "    <tr>\n",
       "      <th>512445000_3</th>\n",
       "      <td>Wellington</td>\n",
       "      <td>-41.3202</td>\n",
       "      <td>174.807</td>\n",
       "      <td>Wellington</td>\n",
       "      <td>-41.3202</td>\n",
       "      <td>174.807</td>\n",
       "      <td>0.970393</td>\n",
       "      <td>0.0</td>\n",
       "    </tr>\n",
       "    <tr>\n",
       "      <th>512445000_6</th>\n",
       "      <td>Wellington</td>\n",
       "      <td>-41.3202</td>\n",
       "      <td>174.807</td>\n",
       "      <td>Wellington</td>\n",
       "      <td>-41.3202</td>\n",
       "      <td>174.807</td>\n",
       "      <td>0.969663</td>\n",
       "      <td>0.0</td>\n",
       "    </tr>\n",
       "    <tr>\n",
       "      <th>512445000_7</th>\n",
       "      <td>Wellington</td>\n",
       "      <td>-41.3202</td>\n",
       "      <td>174.807</td>\n",
       "      <td>Wellington</td>\n",
       "      <td>-41.3202</td>\n",
       "      <td>174.807</td>\n",
       "      <td>0.979015</td>\n",
       "      <td>0.0</td>\n",
       "    </tr>\n",
       "    <tr>\n",
       "      <th>512445000_8</th>\n",
       "      <td>Picton</td>\n",
       "      <td>-41.2936</td>\n",
       "      <td>174.007</td>\n",
       "      <td>Picton</td>\n",
       "      <td>-41.2936</td>\n",
       "      <td>174.007</td>\n",
       "      <td>0.947974</td>\n",
       "      <td>0.0</td>\n",
       "    </tr>\n",
       "    <tr>\n",
       "      <th>512445000_9</th>\n",
       "      <td>Picton</td>\n",
       "      <td>-41.2936</td>\n",
       "      <td>174.007</td>\n",
       "      <td>Picton</td>\n",
       "      <td>-41.2936</td>\n",
       "      <td>174.007</td>\n",
       "      <td>0.950097</td>\n",
       "      <td>0.0</td>\n",
       "    </tr>\n",
       "  </tbody>\n",
       "</table>\n",
       "</div>"
      ],
      "text/plain": [
       "            target_portname  target_port_lat  target_port_long pred_portname  \\\n",
       "identifier                                                                     \n",
       "512445000_3      Wellington         -41.3202           174.807    Wellington   \n",
       "512445000_6      Wellington         -41.3202           174.807    Wellington   \n",
       "512445000_7      Wellington         -41.3202           174.807    Wellington   \n",
       "512445000_8          Picton         -41.2936           174.007        Picton   \n",
       "512445000_9          Picton         -41.2936           174.007        Picton   \n",
       "\n",
       "             pred_port_lat  pred_port_long  probability  distance  \n",
       "identifier                                                         \n",
       "512445000_3       -41.3202         174.807     0.970393       0.0  \n",
       "512445000_6       -41.3202         174.807     0.969663       0.0  \n",
       "512445000_7       -41.3202         174.807     0.979015       0.0  \n",
       "512445000_8       -41.2936         174.007     0.947974       0.0  \n",
       "512445000_9       -41.2936         174.007     0.950097       0.0  "
      ]
     },
     "execution_count": 6,
     "metadata": {},
     "output_type": "execute_result"
    }
   ],
   "source": [
    "predicted = info[info['rank']==1][['identifier', 'target_portname', 'target_port_lat', 'target_port_long', 'probability']]\n",
    "predicted = predicted.set_index('identifier')\n",
    "predicted.columns = ['pred_'+ col[len('target_'):] for col in predicted.columns]\n",
    "\n",
    "\n",
    "true = info[info['target']==1][['identifier', 'target_portname', 'target_port_lat', 'target_port_long', 'probability']]\n",
    "true = true.set_index('identifier')\n",
    "\n",
    "\n",
    "adf = pd.merge(true, predicted, how='left', left_index=True, right_index=True)\n",
    "adf.drop('probability', 1, inplace=True)\n",
    "adf.rename(columns={'pred_lity': 'probability'}, inplace=True)\n",
    "\n",
    "adf['distance'] = np.sqrt((adf['target_port_lat'] - adf['pred_port_lat'])**2 + \n",
    "                                 (adf['target_port_long'] - adf['pred_port_long'])**2) *111\n",
    "\n",
    "adf.head()"
   ]
  },
  {
   "cell_type": "code",
   "execution_count": 7,
   "metadata": {},
   "outputs": [
    {
     "data": {
      "text/plain": [
       "0.12652772965620396"
      ]
     },
     "execution_count": 7,
     "metadata": {},
     "output_type": "execute_result"
    }
   ],
   "source": [
    "f1_score(adf['target_portname'], \n",
    "         adf['pred_portname'],\n",
    "         average='macro')"
   ]
  },
  {
   "cell_type": "code",
   "execution_count": 8,
   "metadata": {},
   "outputs": [
    {
     "data": {
      "text/plain": [
       "count     1500.000000\n",
       "mean      2211.537725\n",
       "std       4422.057264\n",
       "min          0.000000\n",
       "25%          0.000000\n",
       "50%         20.217793\n",
       "75%       2587.306780\n",
       "max      29273.717018\n",
       "Name: distance, dtype: float64"
      ]
     },
     "execution_count": 8,
     "metadata": {},
     "output_type": "execute_result"
    }
   ],
   "source": [
    "adf['distance'].describe()"
   ]
  },
  {
   "cell_type": "code",
   "execution_count": 9,
   "metadata": {},
   "outputs": [
    {
     "data": {
      "text/plain": [
       "count      577.000000\n",
       "mean       208.131912\n",
       "std       1741.302551\n",
       "min          0.000000\n",
       "25%          0.000000\n",
       "50%          0.000000\n",
       "75%          1.546051\n",
       "max      27079.674095\n",
       "Name: distance, dtype: float64"
      ]
     },
     "execution_count": 9,
     "metadata": {},
     "output_type": "execute_result"
    }
   ],
   "source": [
    "adf[adf['probability'] > 0.3]['distance'].describe()"
   ]
  },
  {
   "cell_type": "code",
   "execution_count": 10,
   "metadata": {},
   "outputs": [
    {
     "data": {
      "text/plain": [
       "0.542"
      ]
     },
     "execution_count": 10,
     "metadata": {},
     "output_type": "execute_result"
    }
   ],
   "source": [
    "len(adf[adf['distance'] < 100]) / len(adf)"
   ]
  },
  {
   "cell_type": "code",
   "execution_count": 11,
   "metadata": {},
   "outputs": [
    {
     "data": {
      "text/plain": [
       "[<matplotlib.lines.Line2D at 0x1c0cb009208>]"
      ]
     },
     "execution_count": 11,
     "metadata": {},
     "output_type": "execute_result"
    },
    {
     "data": {
      "image/png": "[encoded data removed]",
      "text/plain": [
       "<Figure size 432x288 with 1 Axes>"
      ]
     },
     "metadata": {
      "needs_background": "light"
     },
     "output_type": "display_data"
    }
   ],
   "source": [
    "plt.plot(adf['probability'], adf['distance'], 'o', markersize=1)"
   ]
  },
  {
   "cell_type": "markdown",
   "metadata": {},
   "source": [
    "### Baseline"
   ]
  },
  {
   "cell_type": "code",
   "execution_count": 12,
   "metadata": {},
   "outputs": [
    {
     "data": {
      "text/plain": [
       "(0.0, 1.0)"
      ]
     },
     "execution_count": 12,
     "metadata": {},
     "output_type": "execute_result"
    },
    {
     "data": {
      "image/png": "[encoded data removed]",
      "text/plain": [
       "<Figure size 432x288 with 1 Axes>"
      ]
     },
     "metadata": {
      "needs_background": "light"
     },
     "output_type": "display_data"
    }
   ],
   "source": [
    "baseline_plot = baseline[baseline['target'] == 1][['identifier', 'port_index', 'target_port_index', 'rank']]\n",
    "\n",
    "no_target = 1 - (len(baseline[baseline['target'] == 1]) / baseline['identifier'].nunique())\n",
    "\n",
    "baseline_plot['count'] = 1/len(baseline_plot)\n",
    "baseline_plot = baseline_plot.sort_values('rank')\n",
    "baseline_plot['cumsum'] = baseline_plot['count'].cumsum()\n",
    "\n",
    "baseline_plot = pd.pivot_table(baseline_plot, values='cumsum', index='rank', aggfunc='max').reset_index()\n",
    "baseline_plot['cumsum'] = baseline_plot['cumsum'] * (1-no_target)\n",
    "baseline_plot = baseline_plot.append({'rank':0, 'cumsum':0}, ignore_index=True).sort_values('rank', ascending=True).reset_index(drop=True)\n",
    "\n",
    "plt.plot(baseline_plot['rank'], baseline_plot['cumsum'])\n",
    "plt.ylim(0, 1)"
   ]
  },
  {
   "cell_type": "code",
   "execution_count": 13,
   "metadata": {},
   "outputs": [
    {
     "data": {
      "text/html": [
       "<div>\n",
       "<style scoped>\n",
       "    .dataframe tbody tr th:only-of-type {\n",
       "        vertical-align: middle;\n",
       "    }\n",
       "\n",
       "    .dataframe tbody tr th {\n",
       "        vertical-align: top;\n",
       "    }\n",
       "\n",
       "    .dataframe thead th {\n",
       "        text-align: right;\n",
       "    }\n",
       "</style>\n",
       "<table border=\"1\" class=\"dataframe\">\n",
       "  <thead>\n",
       "    <tr style=\"text-align: right;\">\n",
       "      <th></th>\n",
       "      <th>rank</th>\n",
       "      <th>cumsum</th>\n",
       "    </tr>\n",
       "  </thead>\n",
       "  <tbody>\n",
       "    <tr>\n",
       "      <th>0</th>\n",
       "      <td>0</td>\n",
       "      <td>0.000000</td>\n",
       "    </tr>\n",
       "    <tr>\n",
       "      <th>1</th>\n",
       "      <td>1</td>\n",
       "      <td>0.275034</td>\n",
       "    </tr>\n",
       "    <tr>\n",
       "      <th>2</th>\n",
       "      <td>2</td>\n",
       "      <td>0.395129</td>\n",
       "    </tr>\n",
       "    <tr>\n",
       "      <th>3</th>\n",
       "      <td>3</td>\n",
       "      <td>0.466847</td>\n",
       "    </tr>\n",
       "    <tr>\n",
       "      <th>4</th>\n",
       "      <td>4</td>\n",
       "      <td>0.514208</td>\n",
       "    </tr>\n",
       "    <tr>\n",
       "      <th>5</th>\n",
       "      <td>5</td>\n",
       "      <td>0.548038</td>\n",
       "    </tr>\n",
       "    <tr>\n",
       "      <th>6</th>\n",
       "      <td>6</td>\n",
       "      <td>0.575101</td>\n",
       "    </tr>\n",
       "    <tr>\n",
       "      <th>7</th>\n",
       "      <td>7</td>\n",
       "      <td>0.597429</td>\n",
       "    </tr>\n",
       "    <tr>\n",
       "      <th>8</th>\n",
       "      <td>8</td>\n",
       "      <td>0.617727</td>\n",
       "    </tr>\n",
       "    <tr>\n",
       "      <th>9</th>\n",
       "      <td>9</td>\n",
       "      <td>0.631597</td>\n",
       "    </tr>\n",
       "    <tr>\n",
       "      <th>10</th>\n",
       "      <td>10</td>\n",
       "      <td>0.649188</td>\n",
       "    </tr>\n",
       "    <tr>\n",
       "      <th>11</th>\n",
       "      <td>11</td>\n",
       "      <td>0.668133</td>\n",
       "    </tr>\n",
       "    <tr>\n",
       "      <th>12</th>\n",
       "      <td>12</td>\n",
       "      <td>0.678281</td>\n",
       "    </tr>\n",
       "    <tr>\n",
       "      <th>13</th>\n",
       "      <td>13</td>\n",
       "      <td>0.687415</td>\n",
       "    </tr>\n",
       "    <tr>\n",
       "      <th>14</th>\n",
       "      <td>14</td>\n",
       "      <td>0.695873</td>\n",
       "    </tr>\n",
       "  </tbody>\n",
       "</table>\n",
       "</div>"
      ],
      "text/plain": [
       "    rank    cumsum\n",
       "0      0  0.000000\n",
       "1      1  0.275034\n",
       "2      2  0.395129\n",
       "3      3  0.466847\n",
       "4      4  0.514208\n",
       "5      5  0.548038\n",
       "6      6  0.575101\n",
       "7      7  0.597429\n",
       "8      8  0.617727\n",
       "9      9  0.631597\n",
       "10    10  0.649188\n",
       "11    11  0.668133\n",
       "12    12  0.678281\n",
       "13    13  0.687415\n",
       "14    14  0.695873"
      ]
     },
     "execution_count": 13,
     "metadata": {},
     "output_type": "execute_result"
    }
   ],
   "source": [
    "baseline_plot.head(15)"
   ]
  },
  {
   "cell_type": "code",
   "execution_count": 14,
   "metadata": {},
   "outputs": [
    {
     "data": {
      "text/html": [
       "<div>\n",
       "<style scoped>\n",
       "    .dataframe tbody tr th:only-of-type {\n",
       "        vertical-align: middle;\n",
       "    }\n",
       "\n",
       "    .dataframe tbody tr th {\n",
       "        vertical-align: top;\n",
       "    }\n",
       "\n",
       "    .dataframe thead th {\n",
       "        text-align: right;\n",
       "    }\n",
       "</style>\n",
       "<table border=\"1\" class=\"dataframe\">\n",
       "  <thead>\n",
       "    <tr style=\"text-align: right;\">\n",
       "      <th></th>\n",
       "      <th>identifier</th>\n",
       "      <th>portname</th>\n",
       "      <th>port_lat</th>\n",
       "      <th>port_long</th>\n",
       "      <th>target_portname</th>\n",
       "      <th>target_port_lat</th>\n",
       "      <th>target_port_long</th>\n",
       "      <th>rank</th>\n",
       "      <th>target</th>\n",
       "    </tr>\n",
       "  </thead>\n",
       "  <tbody>\n",
       "    <tr>\n",
       "      <th>0</th>\n",
       "      <td>512445000_3</td>\n",
       "      <td>Picton</td>\n",
       "      <td>-41.2936</td>\n",
       "      <td>174.0070</td>\n",
       "      <td>Wellington</td>\n",
       "      <td>-41.32020</td>\n",
       "      <td>174.8070</td>\n",
       "      <td>1</td>\n",
       "      <td>1.0</td>\n",
       "    </tr>\n",
       "    <tr>\n",
       "      <th>1</th>\n",
       "      <td>512445000_3</td>\n",
       "      <td>Picton</td>\n",
       "      <td>-41.2936</td>\n",
       "      <td>174.0070</td>\n",
       "      <td>Mount Maunganui</td>\n",
       "      <td>-37.63820</td>\n",
       "      <td>176.1760</td>\n",
       "      <td>2</td>\n",
       "      <td>0.0</td>\n",
       "    </tr>\n",
       "    <tr>\n",
       "      <th>2</th>\n",
       "      <td>512445000_3</td>\n",
       "      <td>Picton</td>\n",
       "      <td>-41.2936</td>\n",
       "      <td>174.0070</td>\n",
       "      <td>Nelson</td>\n",
       "      <td>-41.28450</td>\n",
       "      <td>173.2370</td>\n",
       "      <td>3</td>\n",
       "      <td>0.0</td>\n",
       "    </tr>\n",
       "    <tr>\n",
       "      <th>3</th>\n",
       "      <td>512445000_3</td>\n",
       "      <td>Picton</td>\n",
       "      <td>-41.2936</td>\n",
       "      <td>174.0070</td>\n",
       "      <td>Botany Bay</td>\n",
       "      <td>-33.94930</td>\n",
       "      <td>151.1820</td>\n",
       "      <td>4</td>\n",
       "      <td>0.0</td>\n",
       "    </tr>\n",
       "    <tr>\n",
       "      <th>4</th>\n",
       "      <td>512445000_3</td>\n",
       "      <td>Picton</td>\n",
       "      <td>-41.2936</td>\n",
       "      <td>174.0070</td>\n",
       "      <td>Napier</td>\n",
       "      <td>-39.48120</td>\n",
       "      <td>176.8920</td>\n",
       "      <td>5</td>\n",
       "      <td>0.0</td>\n",
       "    </tr>\n",
       "    <tr>\n",
       "      <th>21</th>\n",
       "      <td>518100004_0</td>\n",
       "      <td>Yuzhnyy</td>\n",
       "      <td>46.6188</td>\n",
       "      <td>31.0142</td>\n",
       "      <td>Odessa</td>\n",
       "      <td>46.49370</td>\n",
       "      <td>30.7547</td>\n",
       "      <td>1</td>\n",
       "      <td>1.0</td>\n",
       "    </tr>\n",
       "    <tr>\n",
       "      <th>22</th>\n",
       "      <td>518100004_0</td>\n",
       "      <td>Yuzhnyy</td>\n",
       "      <td>46.6188</td>\n",
       "      <td>31.0142</td>\n",
       "      <td>Yuzhnyy</td>\n",
       "      <td>46.61880</td>\n",
       "      <td>31.0142</td>\n",
       "      <td>2</td>\n",
       "      <td>0.0</td>\n",
       "    </tr>\n",
       "    <tr>\n",
       "      <th>23</th>\n",
       "      <td>518100004_0</td>\n",
       "      <td>Yuzhnyy</td>\n",
       "      <td>46.6188</td>\n",
       "      <td>31.0142</td>\n",
       "      <td>Tanjong Pagar</td>\n",
       "      <td>1.26503</td>\n",
       "      <td>103.8390</td>\n",
       "      <td>3</td>\n",
       "      <td>0.0</td>\n",
       "    </tr>\n",
       "    <tr>\n",
       "      <th>24</th>\n",
       "      <td>518100004_0</td>\n",
       "      <td>Yuzhnyy</td>\n",
       "      <td>46.6188</td>\n",
       "      <td>31.0142</td>\n",
       "      <td>Novorossiysk</td>\n",
       "      <td>44.71350</td>\n",
       "      <td>37.7883</td>\n",
       "      <td>4</td>\n",
       "      <td>0.0</td>\n",
       "    </tr>\n",
       "    <tr>\n",
       "      <th>25</th>\n",
       "      <td>518100004_0</td>\n",
       "      <td>Yuzhnyy</td>\n",
       "      <td>46.6188</td>\n",
       "      <td>31.0142</td>\n",
       "      <td>Constanta</td>\n",
       "      <td>44.16450</td>\n",
       "      <td>28.6419</td>\n",
       "      <td>5</td>\n",
       "      <td>0.0</td>\n",
       "    </tr>\n",
       "    <tr>\n",
       "      <th>725</th>\n",
       "      <td>518100160_0</td>\n",
       "      <td>Procida</td>\n",
       "      <td>40.7619</td>\n",
       "      <td>14.0299</td>\n",
       "      <td>Portici</td>\n",
       "      <td>40.83670</td>\n",
       "      <td>14.2587</td>\n",
       "      <td>1</td>\n",
       "      <td>0.0</td>\n",
       "    </tr>\n",
       "    <tr>\n",
       "      <th>726</th>\n",
       "      <td>518100160_0</td>\n",
       "      <td>Procida</td>\n",
       "      <td>40.7619</td>\n",
       "      <td>14.0299</td>\n",
       "      <td>Procida</td>\n",
       "      <td>40.76190</td>\n",
       "      <td>14.0299</td>\n",
       "      <td>2</td>\n",
       "      <td>0.0</td>\n",
       "    </tr>\n",
       "    <tr>\n",
       "      <th>727</th>\n",
       "      <td>518100160_0</td>\n",
       "      <td>Procida</td>\n",
       "      <td>40.7619</td>\n",
       "      <td>14.0299</td>\n",
       "      <td>Bagnoli</td>\n",
       "      <td>40.79960</td>\n",
       "      <td>14.1613</td>\n",
       "      <td>3</td>\n",
       "      <td>0.0</td>\n",
       "    </tr>\n",
       "    <tr>\n",
       "      <th>728</th>\n",
       "      <td>518100160_0</td>\n",
       "      <td>Procida</td>\n",
       "      <td>40.7619</td>\n",
       "      <td>14.0299</td>\n",
       "      <td>Torre Annunziata</td>\n",
       "      <td>40.69730</td>\n",
       "      <td>14.4701</td>\n",
       "      <td>4</td>\n",
       "      <td>0.0</td>\n",
       "    </tr>\n",
       "    <tr>\n",
       "      <th>729</th>\n",
       "      <td>518100160_0</td>\n",
       "      <td>Procida</td>\n",
       "      <td>40.7619</td>\n",
       "      <td>14.0299</td>\n",
       "      <td>Amalfi</td>\n",
       "      <td>40.64390</td>\n",
       "      <td>14.6183</td>\n",
       "      <td>5</td>\n",
       "      <td>1.0</td>\n",
       "    </tr>\n",
       "    <tr>\n",
       "      <th>2165</th>\n",
       "      <td>518100163_0</td>\n",
       "      <td>Zeytinburnu</td>\n",
       "      <td>40.9796</td>\n",
       "      <td>28.8927</td>\n",
       "      <td>Novorossiysk</td>\n",
       "      <td>44.71350</td>\n",
       "      <td>37.7883</td>\n",
       "      <td>1</td>\n",
       "      <td>0.0</td>\n",
       "    </tr>\n",
       "    <tr>\n",
       "      <th>2166</th>\n",
       "      <td>518100163_0</td>\n",
       "      <td>Zeytinburnu</td>\n",
       "      <td>40.9796</td>\n",
       "      <td>28.8927</td>\n",
       "      <td>Constanta</td>\n",
       "      <td>44.16450</td>\n",
       "      <td>28.6419</td>\n",
       "      <td>2</td>\n",
       "      <td>1.0</td>\n",
       "    </tr>\n",
       "    <tr>\n",
       "      <th>2167</th>\n",
       "      <td>518100163_0</td>\n",
       "      <td>Zeytinburnu</td>\n",
       "      <td>40.9796</td>\n",
       "      <td>28.8927</td>\n",
       "      <td>Yuzhnyy</td>\n",
       "      <td>46.61880</td>\n",
       "      <td>31.0142</td>\n",
       "      <td>3</td>\n",
       "      <td>0.0</td>\n",
       "    </tr>\n",
       "    <tr>\n",
       "      <th>2168</th>\n",
       "      <td>518100163_0</td>\n",
       "      <td>Zeytinburnu</td>\n",
       "      <td>40.9796</td>\n",
       "      <td>28.8927</td>\n",
       "      <td>Oktyabrsk</td>\n",
       "      <td>46.83690</td>\n",
       "      <td>31.9535</td>\n",
       "      <td>4</td>\n",
       "      <td>0.0</td>\n",
       "    </tr>\n",
       "    <tr>\n",
       "      <th>2169</th>\n",
       "      <td>518100163_0</td>\n",
       "      <td>Zeytinburnu</td>\n",
       "      <td>40.9796</td>\n",
       "      <td>28.8927</td>\n",
       "      <td>Zeytinburnu</td>\n",
       "      <td>40.97960</td>\n",
       "      <td>28.8927</td>\n",
       "      <td>5</td>\n",
       "      <td>0.0</td>\n",
       "    </tr>\n",
       "    <tr>\n",
       "      <th>3286</th>\n",
       "      <td>518100165_0</td>\n",
       "      <td>Varna</td>\n",
       "      <td>43.1833</td>\n",
       "      <td>27.9667</td>\n",
       "      <td>Constanta</td>\n",
       "      <td>44.16450</td>\n",
       "      <td>28.6419</td>\n",
       "      <td>1</td>\n",
       "      <td>0.0</td>\n",
       "    </tr>\n",
       "    <tr>\n",
       "      <th>3287</th>\n",
       "      <td>518100165_0</td>\n",
       "      <td>Varna</td>\n",
       "      <td>43.1833</td>\n",
       "      <td>27.9667</td>\n",
       "      <td>Perama</td>\n",
       "      <td>37.96330</td>\n",
       "      <td>23.5667</td>\n",
       "      <td>2</td>\n",
       "      <td>0.0</td>\n",
       "    </tr>\n",
       "    <tr>\n",
       "      <th>3288</th>\n",
       "      <td>518100165_0</td>\n",
       "      <td>Varna</td>\n",
       "      <td>43.1833</td>\n",
       "      <td>27.9667</td>\n",
       "      <td>Novorossiysk</td>\n",
       "      <td>44.71350</td>\n",
       "      <td>37.7883</td>\n",
       "      <td>3</td>\n",
       "      <td>1.0</td>\n",
       "    </tr>\n",
       "    <tr>\n",
       "      <th>3289</th>\n",
       "      <td>518100165_0</td>\n",
       "      <td>Varna</td>\n",
       "      <td>43.1833</td>\n",
       "      <td>27.9667</td>\n",
       "      <td>Sariyer</td>\n",
       "      <td>41.17250</td>\n",
       "      <td>29.0661</td>\n",
       "      <td>4</td>\n",
       "      <td>0.0</td>\n",
       "    </tr>\n",
       "    <tr>\n",
       "      <th>3290</th>\n",
       "      <td>518100165_0</td>\n",
       "      <td>Varna</td>\n",
       "      <td>43.1833</td>\n",
       "      <td>27.9667</td>\n",
       "      <td>Yuzhnyy</td>\n",
       "      <td>46.61880</td>\n",
       "      <td>31.0142</td>\n",
       "      <td>5</td>\n",
       "      <td>0.0</td>\n",
       "    </tr>\n",
       "  </tbody>\n",
       "</table>\n",
       "</div>"
      ],
      "text/plain": [
       "       identifier     portname  port_lat  port_long   target_portname  \\\n",
       "0     512445000_3       Picton  -41.2936   174.0070        Wellington   \n",
       "1     512445000_3       Picton  -41.2936   174.0070   Mount Maunganui   \n",
       "2     512445000_3       Picton  -41.2936   174.0070            Nelson   \n",
       "3     512445000_3       Picton  -41.2936   174.0070        Botany Bay   \n",
       "4     512445000_3       Picton  -41.2936   174.0070            Napier   \n",
       "21    518100004_0      Yuzhnyy   46.6188    31.0142            Odessa   \n",
       "22    518100004_0      Yuzhnyy   46.6188    31.0142           Yuzhnyy   \n",
       "23    518100004_0      Yuzhnyy   46.6188    31.0142     Tanjong Pagar   \n",
       "24    518100004_0      Yuzhnyy   46.6188    31.0142      Novorossiysk   \n",
       "25    518100004_0      Yuzhnyy   46.6188    31.0142         Constanta   \n",
       "725   518100160_0      Procida   40.7619    14.0299           Portici   \n",
       "726   518100160_0      Procida   40.7619    14.0299           Procida   \n",
       "727   518100160_0      Procida   40.7619    14.0299           Bagnoli   \n",
       "728   518100160_0      Procida   40.7619    14.0299  Torre Annunziata   \n",
       "729   518100160_0      Procida   40.7619    14.0299            Amalfi   \n",
       "2165  518100163_0  Zeytinburnu   40.9796    28.8927      Novorossiysk   \n",
       "2166  518100163_0  Zeytinburnu   40.9796    28.8927         Constanta   \n",
       "2167  518100163_0  Zeytinburnu   40.9796    28.8927           Yuzhnyy   \n",
       "2168  518100163_0  Zeytinburnu   40.9796    28.8927         Oktyabrsk   \n",
       "2169  518100163_0  Zeytinburnu   40.9796    28.8927       Zeytinburnu   \n",
       "3286  518100165_0        Varna   43.1833    27.9667         Constanta   \n",
       "3287  518100165_0        Varna   43.1833    27.9667            Perama   \n",
       "3288  518100165_0        Varna   43.1833    27.9667      Novorossiysk   \n",
       "3289  518100165_0        Varna   43.1833    27.9667           Sariyer   \n",
       "3290  518100165_0        Varna   43.1833    27.9667           Yuzhnyy   \n",
       "\n",
       "      target_port_lat  target_port_long  rank  target  \n",
       "0           -41.32020          174.8070     1     1.0  \n",
       "1           -37.63820          176.1760     2     0.0  \n",
       "2           -41.28450          173.2370     3     0.0  \n",
       "3           -33.94930          151.1820     4     0.0  \n",
       "4           -39.48120          176.8920     5     0.0  \n",
       "21           46.49370           30.7547     1     1.0  \n",
       "22           46.61880           31.0142     2     0.0  \n",
       "23            1.26503          103.8390     3     0.0  \n",
       "24           44.71350           37.7883     4     0.0  \n",
       "25           44.16450           28.6419     5     0.0  \n",
       "725          40.83670           14.2587     1     0.0  \n",
       "726          40.76190           14.0299     2     0.0  \n",
       "727          40.79960           14.1613     3     0.0  \n",
       "728          40.69730           14.4701     4     0.0  \n",
       "729          40.64390           14.6183     5     1.0  \n",
       "2165         44.71350           37.7883     1     0.0  \n",
       "2166         44.16450           28.6419     2     1.0  \n",
       "2167         46.61880           31.0142     3     0.0  \n",
       "2168         46.83690           31.9535     4     0.0  \n",
       "2169         40.97960           28.8927     5     0.0  \n",
       "3286         44.16450           28.6419     1     0.0  \n",
       "3287         37.96330           23.5667     2     0.0  \n",
       "3288         44.71350           37.7883     3     1.0  \n",
       "3289         41.17250           29.0661     4     0.0  \n",
       "3290         46.61880           31.0142     5     0.0  "
      ]
     },
     "execution_count": 14,
     "metadata": {},
     "output_type": "execute_result"
    }
   ],
   "source": [
    "ports = pd.read_parquet('ports_prep.parquet.gzip').set_index('port_index')\n",
    "baseline_info = pd.merge(baseline, ports[['portname', 'port_lat', 'port_long']],\n",
    "        how='left', left_on='port_index', right_index=True)\n",
    "\n",
    "ports.columns = ['target_' + column for column in ports.columns]\n",
    "baseline_info = pd.merge(baseline_info, ports[['target_portname', 'target_port_lat', 'target_port_long']],\n",
    "        how='left', left_on='target_port_index', right_index=True)\n",
    "\n",
    "baseline_info = baseline_info[['identifier', 'portname', 'port_lat', 'port_long',\n",
    "             'target_portname', 'target_port_lat', 'target_port_long', \n",
    "             'rank', 'target']]\n",
    "\n",
    "baseline_info.groupby('identifier').head(5).head(25)"
   ]
  },
  {
   "cell_type": "code",
   "execution_count": 15,
   "metadata": {},
   "outputs": [
    {
     "data": {
      "text/html": [
       "<div>\n",
       "<style scoped>\n",
       "    .dataframe tbody tr th:only-of-type {\n",
       "        vertical-align: middle;\n",
       "    }\n",
       "\n",
       "    .dataframe tbody tr th {\n",
       "        vertical-align: top;\n",
       "    }\n",
       "\n",
       "    .dataframe thead th {\n",
       "        text-align: right;\n",
       "    }\n",
       "</style>\n",
       "<table border=\"1\" class=\"dataframe\">\n",
       "  <thead>\n",
       "    <tr style=\"text-align: right;\">\n",
       "      <th></th>\n",
       "      <th>target_portname</th>\n",
       "      <th>target_port_lat</th>\n",
       "      <th>target_port_long</th>\n",
       "      <th>pred_portname</th>\n",
       "      <th>pred_port_lat</th>\n",
       "      <th>pred_port_long</th>\n",
       "      <th>distance</th>\n",
       "    </tr>\n",
       "    <tr>\n",
       "      <th>identifier</th>\n",
       "      <th></th>\n",
       "      <th></th>\n",
       "      <th></th>\n",
       "      <th></th>\n",
       "      <th></th>\n",
       "      <th></th>\n",
       "      <th></th>\n",
       "    </tr>\n",
       "  </thead>\n",
       "  <tbody>\n",
       "    <tr>\n",
       "      <th>512445000_3</th>\n",
       "      <td>Wellington</td>\n",
       "      <td>-41.3202</td>\n",
       "      <td>174.8070</td>\n",
       "      <td>Wellington</td>\n",
       "      <td>-41.3202</td>\n",
       "      <td>174.8070</td>\n",
       "      <td>0.000000</td>\n",
       "    </tr>\n",
       "    <tr>\n",
       "      <th>518100004_0</th>\n",
       "      <td>Odessa</td>\n",
       "      <td>46.4937</td>\n",
       "      <td>30.7547</td>\n",
       "      <td>Odessa</td>\n",
       "      <td>46.4937</td>\n",
       "      <td>30.7547</td>\n",
       "      <td>0.000000</td>\n",
       "    </tr>\n",
       "    <tr>\n",
       "      <th>518100160_0</th>\n",
       "      <td>Amalfi</td>\n",
       "      <td>40.6439</td>\n",
       "      <td>14.6183</td>\n",
       "      <td>Portici</td>\n",
       "      <td>40.8367</td>\n",
       "      <td>14.2587</td>\n",
       "      <td>45.290721</td>\n",
       "    </tr>\n",
       "    <tr>\n",
       "      <th>518100163_0</th>\n",
       "      <td>Constanta</td>\n",
       "      <td>44.1645</td>\n",
       "      <td>28.6419</td>\n",
       "      <td>Novorossiysk</td>\n",
       "      <td>44.7135</td>\n",
       "      <td>37.7883</td>\n",
       "      <td>1017.077645</td>\n",
       "    </tr>\n",
       "    <tr>\n",
       "      <th>518100165_0</th>\n",
       "      <td>Novorossiysk</td>\n",
       "      <td>44.7135</td>\n",
       "      <td>37.7883</td>\n",
       "      <td>Constanta</td>\n",
       "      <td>44.1645</td>\n",
       "      <td>28.6419</td>\n",
       "      <td>1017.077645</td>\n",
       "    </tr>\n",
       "  </tbody>\n",
       "</table>\n",
       "</div>"
      ],
      "text/plain": [
       "            target_portname  target_port_lat  target_port_long pred_portname  \\\n",
       "identifier                                                                     \n",
       "512445000_3      Wellington         -41.3202          174.8070    Wellington   \n",
       "518100004_0          Odessa          46.4937           30.7547        Odessa   \n",
       "518100160_0          Amalfi          40.6439           14.6183       Portici   \n",
       "518100163_0       Constanta          44.1645           28.6419  Novorossiysk   \n",
       "518100165_0    Novorossiysk          44.7135           37.7883     Constanta   \n",
       "\n",
       "             pred_port_lat  pred_port_long     distance  \n",
       "identifier                                               \n",
       "512445000_3       -41.3202        174.8070     0.000000  \n",
       "518100004_0        46.4937         30.7547     0.000000  \n",
       "518100160_0        40.8367         14.2587    45.290721  \n",
       "518100163_0        44.7135         37.7883  1017.077645  \n",
       "518100165_0        44.1645         28.6419  1017.077645  "
      ]
     },
     "execution_count": 15,
     "metadata": {},
     "output_type": "execute_result"
    }
   ],
   "source": [
    "predicted = baseline_info[baseline_info['rank']==1][['identifier', 'target_portname', \n",
    "                                                     'target_port_lat', 'target_port_long']]\n",
    "predicted = predicted.set_index('identifier')\n",
    "predicted.columns = ['pred_'+ col[len('target_'):] for col in predicted.columns]\n",
    "\n",
    "\n",
    "true = baseline_info[baseline_info['target']==1][['identifier', 'target_portname', 'target_port_lat', \n",
    "                                                  'target_port_long']]\n",
    "true = true.set_index('identifier')\n",
    "\n",
    "\n",
    "baseline_adf = pd.merge(true, predicted, how='left', left_index=True, right_index=True)\n",
    "\n",
    "\n",
    "baseline_adf['distance'] = np.sqrt((baseline_adf['target_port_lat'] - baseline_adf['pred_port_lat'])**2 + \n",
    "                                 (baseline_adf['target_port_long'] - baseline_adf['pred_port_long'])**2) *111\n",
    "\n",
    "baseline_adf.head()"
   ]
  },
  {
   "cell_type": "code",
   "execution_count": 16,
   "metadata": {},
   "outputs": [
    {
     "data": {
      "text/plain": [
       "0.08738638493742953"
      ]
     },
     "execution_count": 16,
     "metadata": {},
     "output_type": "execute_result"
    }
   ],
   "source": [
    "f1_score(baseline_adf['target_portname'], \n",
    "         baseline_adf['pred_portname'],\n",
    "         average='macro')"
   ]
  },
  {
   "cell_type": "code",
   "execution_count": 17,
   "metadata": {},
   "outputs": [
    {
     "data": {
      "text/plain": [
       "count     2827.000000\n",
       "mean      1848.755214\n",
       "std       3930.730180\n",
       "min          0.000000\n",
       "25%          0.000000\n",
       "50%        156.943795\n",
       "75%       1849.089386\n",
       "max      29135.458851\n",
       "Name: distance, dtype: float64"
      ]
     },
     "execution_count": 17,
     "metadata": {},
     "output_type": "execute_result"
    }
   ],
   "source": [
    "baseline_adf['distance'].describe()"
   ]
  },
  {
   "cell_type": "code",
   "execution_count": 18,
   "metadata": {},
   "outputs": [
    {
     "data": {
      "text/plain": [
       "0.48036788114609125"
      ]
     },
     "execution_count": 18,
     "metadata": {},
     "output_type": "execute_result"
    }
   ],
   "source": [
    "len(baseline_adf[baseline_adf['distance'] < 100]) / len(baseline_adf)"
   ]
  },
  {
   "cell_type": "markdown",
   "metadata": {},
   "source": [
    "## plot"
   ]
  },
  {
   "cell_type": "code",
   "execution_count": 19,
   "metadata": {},
   "outputs": [],
   "source": [
    "plotdata = pd.merge(ranks.rename(columns={'cumsum': 'Model'}), \n",
    "                    baseline_plot.rename(columns={'cumsum': 'Baseline'}), how='outer', on='rank')\n",
    "\n",
    "plotdata = plotdata.sort_values('rank').fillna(method='pad')\n",
    "plotdata = plotdata.head(100)"
   ]
  },
  {
   "cell_type": "code",
   "execution_count": 20,
   "metadata": {},
   "outputs": [
    {
     "data": {
      "image/png": "[encoded data removed]",
      "text/plain": [
       "<Figure size 432x288 with 1 Axes>"
      ]
     },
     "metadata": {
      "needs_background": "light"
     },
     "output_type": "display_data"
    }
   ],
   "source": [
    "plt.plot(plotdata['rank'].values, plotdata['Model'].values, label='Model')\n",
    "plt.plot(plotdata['rank'].values, plotdata['Baseline'].values, label='Baseline')\n",
    "\n",
    "plt.xlabel('TopX')\n",
    "plt.ylabel('Accuracy')\n",
    "plt.legend(loc='lower right')\n",
    "plt.grid()\n",
    "plt.title('Comparison Between Baseline and Model')\n",
    "plt.show()"
   ]
  },
  {
   "cell_type": "code",
   "execution_count": 21,
   "metadata": {},
   "outputs": [],
   "source": [
    "adf = adf.sort_values('distance')\n",
    "baseline_adf = baseline_adf.sort_values('distance')\n",
    "\n",
    "adf['weight'] = 1 / len(adf)\n",
    "baseline_adf['weight'] = 1 / len(baseline_adf)\n",
    "\n",
    "adf['cumsum'] = adf['weight'].cumsum()\n",
    "baseline_adf['cumsum'] = baseline_adf['weight'].cumsum()\n",
    "\n",
    "adf = adf.iloc[576:] # to make sure the graph starts at 38.4%\n",
    "baseline_adf = baseline_adf.iloc[813:] # to make sure the graph starts at "
   ]
  },
  {
   "cell_type": "code",
   "execution_count": 22,
   "metadata": {},
   "outputs": [
    {
     "data": {
      "image/png": "[encoded data removed]",
      "text/plain": [
       "<Figure size 432x288 with 1 Axes>"
      ]
     },
     "metadata": {
      "needs_background": "light"
     },
     "output_type": "display_data"
    }
   ],
   "source": [
    "plt.plot(adf['distance'].values, adf['cumsum'].values, label='Model')\n",
    "plt.plot(baseline_adf['distance'].values, baseline_adf['cumsum'].values, label='Baseline')\n",
    "\n",
    "plt.xlabel('Distance')\n",
    "plt.ylabel('RX-Accuracy')\n",
    "plt.xlim(-50, 2000)\n",
    "plt.ylim(0, 1)\n",
    "plt.legend(loc='lower right')\n",
    "plt.grid()\n",
    "plt.title('Comparison Between Baseline and Model')\n",
    "plt.show()"
   ]
  },
  {
   "cell_type": "markdown",
   "metadata": {},
   "source": [
    "# TRAVEL DURATION\n",
    "- Load the model and baseline predictions\n",
    "- Process each and get the results"
   ]
  },
  {
   "cell_type": "code",
   "execution_count": 23,
   "metadata": {},
   "outputs": [],
   "source": [
    "results = pd.read_csv('travel_prediction.csv')\n",
    "baseline = pd.read_csv('BASELINE_travel_prediction.csv')"
   ]
  },
  {
   "cell_type": "code",
   "execution_count": 24,
   "metadata": {},
   "outputs": [],
   "source": [
    "def MAPE(y_true, y_pred):\n",
    "    return np.mean(np.abs(y_true - y_pred) / y_true)"
   ]
  },
  {
   "cell_type": "markdown",
   "metadata": {},
   "source": [
    "### Model"
   ]
  },
  {
   "cell_type": "code",
   "execution_count": 25,
   "metadata": {},
   "outputs": [],
   "source": [
    "results['error'] = results['target_travel_duration'] - results['prediction']\n",
    "results['abs_error'] = np.abs(results['target_travel_duration'] - results['prediction'])\n",
    "results['MAPE'] = results['abs_error'] / results['target_travel_duration']"
   ]
  },
  {
   "cell_type": "code",
   "execution_count": 26,
   "metadata": {},
   "outputs": [
    {
     "name": "stdout",
     "output_type": "stream",
     "text": [
      "MAPE (test): 0.7693170209689719\n",
      "RMSE (test): 94.08367090826836\n",
      "\n",
      "[[1.         0.77532383]\n",
      " [0.77532383 1.        ]]\n",
      "\n"
     ]
    },
    {
     "data": {
      "text/plain": [
       "[<matplotlib.lines.Line2D at 0x1c08e82cf08>]"
      ]
     },
     "execution_count": 26,
     "metadata": {},
     "output_type": "execute_result"
    },
    {
     "data": {
      "image/png": "[encoded data removed]",
      "text/plain": [
       "<Figure size 432x288 with 1 Axes>"
      ]
     },
     "metadata": {
      "needs_background": "light"
     },
     "output_type": "display_data"
    }
   ],
   "source": [
    "print('MAPE (test):', MAPE(results['target_travel_duration'], results['prediction']))\n",
    "print('RMSE (test):', np.sqrt(mse(results['target_travel_duration'], results['prediction'])))\n",
    "print()\n",
    "\n",
    "print(np.corrcoef(results['target_travel_duration'], results['prediction']))\n",
    "print()\n",
    "\n",
    "plt.plot(results['target_travel_duration'], results['prediction'], 'o', markersize=0.5)"
   ]
  },
  {
   "cell_type": "code",
   "execution_count": 27,
   "metadata": {},
   "outputs": [
    {
     "name": "stdout",
     "output_type": "stream",
     "text": [
      "53.06240757753661\n"
     ]
    }
   ],
   "source": [
    "count = 0\n",
    "percentage = .5\n",
    "\n",
    "for i,j in zip(results['abs_error'].values, results['target_travel_duration'].values):\n",
    "    if (i>(percentage*j)):\n",
    "        count += 1\n",
    "\n",
    "print(100 - (100*count/len(results['abs_error'].values)))"
   ]
  },
  {
   "cell_type": "markdown",
   "metadata": {},
   "source": [
    "### Baseline"
   ]
  },
  {
   "cell_type": "code",
   "execution_count": 28,
   "metadata": {},
   "outputs": [],
   "source": [
    "baseline['prediction'] = np.exp(baseline['prediction']).fillna(baseline['prediction'].mean())\n",
    "baseline['target_travel_duration'] = np.exp(baseline['target_travel_duration'])\n",
    "\n",
    "baseline['error'] = baseline['target_travel_duration'] - baseline['prediction']\n",
    "baseline['abs_error'] = np.abs(baseline['target_travel_duration'] - baseline['prediction'])\n",
    "baseline['MAPE'] = baseline['abs_error'] / baseline['target_travel_duration']"
   ]
  },
  {
   "cell_type": "code",
   "execution_count": 29,
   "metadata": {},
   "outputs": [
    {
     "name": "stdout",
     "output_type": "stream",
     "text": [
      "MAPE (test): 0.9796685296074293\n",
      "RMSE (test): 117.9205901715208\n",
      "\n",
      "[[1.         0.63188458]\n",
      " [0.63188458 1.        ]]\n",
      "\n"
     ]
    },
    {
     "data": {
      "text/plain": [
       "[<matplotlib.lines.Line2D at 0x1c08ea46b88>]"
      ]
     },
     "execution_count": 29,
     "metadata": {},
     "output_type": "execute_result"
    },
    {
     "data": {
      "image/png": "[encoded data removed]",
      "text/plain": [
       "<Figure size 432x288 with 1 Axes>"
      ]
     },
     "metadata": {
      "needs_background": "light"
     },
     "output_type": "display_data"
    }
   ],
   "source": [
    "print('MAPE (test):', MAPE(baseline['target_travel_duration'], baseline['prediction']))\n",
    "print('RMSE (test):', np.sqrt(mse(baseline['target_travel_duration'], baseline['prediction'])))\n",
    "print()\n",
    "\n",
    "print(np.corrcoef(baseline['target_travel_duration'], baseline['prediction']))\n",
    "print()\n",
    "\n",
    "plt.plot(baseline['target_travel_duration'], baseline['prediction'], 'o', markersize=0.5)"
   ]
  },
  {
   "cell_type": "code",
   "execution_count": 30,
   "metadata": {},
   "outputs": [
    {
     "name": "stdout",
     "output_type": "stream",
     "text": [
      "42.27188539368899\n"
     ]
    }
   ],
   "source": [
    "count = 0\n",
    "percentage = .5\n",
    "\n",
    "for i,j in zip(baseline['abs_error'].values, baseline['target_travel_duration'].values):\n",
    "    if (i>(percentage*j)):\n",
    "        count += 1\n",
    "\n",
    "print(100 - (100*count/len(baseline['abs_error'].values)))"
   ]
  },
  {
   "cell_type": "markdown",
   "metadata": {},
   "source": [
    "### Plot"
   ]
  },
  {
   "cell_type": "code",
   "execution_count": 31,
   "metadata": {},
   "outputs": [],
   "source": [
    "bins = [1, 3, 6, 12, 24, 48, 96, 168, 336, 772]\n",
    "\n",
    "model_dict = {'MAPE': [],\n",
    "         'RMSE': []}\n",
    "prev_bin = 0\n",
    "for bin_ in bins:\n",
    "    data = results[(results['target_travel_duration'] < bin_)]\n",
    "    model_dict['MAPE'].append(MAPE(data['target_travel_duration'], data['prediction']))\n",
    "    model_dict['RMSE'].append(np.sqrt(mse(data['target_travel_duration'], data['prediction'])))\n",
    "    prev_bin = bin_    \n",
    "    \n",
    "    \n",
    "baseline_dict = {'MAPE': [],\n",
    "         'RMSE': []}\n",
    "prev_bin = 0\n",
    "for bin_ in bins:\n",
    "    data = baseline[(baseline['target_travel_duration'] < bin_)]\n",
    "    baseline_dict['MAPE'].append(MAPE(data['target_travel_duration'], data['prediction']))\n",
    "    baseline_dict['RMSE'].append(np.sqrt(mse(data['target_travel_duration'], data['prediction'])))\n",
    "    prev_bin = bin_\n",
    "    "
   ]
  },
  {
   "cell_type": "code",
   "execution_count": 32,
   "metadata": {},
   "outputs": [
    {
     "data": {
      "image/png": "[encoded data removed]",
      "text/plain": [
       "<Figure size 432x288 with 2 Axes>"
      ]
     },
     "metadata": {
      "needs_background": "light"
     },
     "output_type": "display_data"
    }
   ],
   "source": [
    "fig, ax = plt.subplots(nrows=2,ncols=1)\n",
    "\n",
    "plt.subplot(2,1,1)\n",
    "plt.ylabel('MAPE')\n",
    "plt.plot(bins, model_dict['MAPE'], color='red', label='Model')\n",
    "plt.plot(bins, baseline_dict['MAPE'], color='blue', label='Baseline')\n",
    "plt.tick_params(axis='y')\n",
    "plt.grid()\n",
    "plt.legend()\n",
    "\n",
    "plt.subplot(2,1,2)\n",
    "plt.xlabel('Travel Duration')\n",
    "plt.ylabel('RMSE') \n",
    "plt.plot(bins, model_dict['RMSE'], color='red', label='Model')\n",
    "plt.plot(bins, baseline_dict['RMSE'], color='blue', label='Baseline')\n",
    "plt.tick_params(axis='y')\n",
    "\n",
    "fig.tight_layout()\n",
    "plt.grid()\n",
    "plt.show()"
   ]
  },
  {
   "cell_type": "markdown",
   "metadata": {},
   "source": [
    "# STAY DURATION\n",
    "- Load the model and baseline predictions\n",
    "- Process each and get the results"
   ]
  },
  {
   "cell_type": "code",
   "execution_count": 33,
   "metadata": {},
   "outputs": [],
   "source": [
    "results = pd.read_csv('stay_prediction.csv')\n",
    "baseline = pd.read_csv('BASELINE_stay_prediction.csv')"
   ]
  },
  {
   "cell_type": "code",
   "execution_count": 34,
   "metadata": {},
   "outputs": [],
   "source": [
    "def MAPE(y_true, y_pred):\n",
    "    return np.mean(np.abs(y_true - y_pred) / y_true)"
   ]
  },
  {
   "cell_type": "markdown",
   "metadata": {},
   "source": [
    "### Model"
   ]
  },
  {
   "cell_type": "code",
   "execution_count": 35,
   "metadata": {},
   "outputs": [],
   "source": [
    "results['error'] = results['target_stay_duration'] - results['prediction']\n",
    "results['abs_error'] = np.abs(results['target_stay_duration'] - results['prediction'])\n",
    "results['MAPE'] = results['abs_error'] / results['target_stay_duration']"
   ]
  },
  {
   "cell_type": "code",
   "execution_count": 36,
   "metadata": {},
   "outputs": [
    {
     "name": "stdout",
     "output_type": "stream",
     "text": [
      "MAPE (test): 2.1514432881584042\n",
      "RMSE (test): 101.42350441699784\n",
      "\n",
      "[[1.         0.38060681]\n",
      " [0.38060681 1.        ]]\n",
      "\n"
     ]
    },
    {
     "data": {
      "text/plain": [
       "[<matplotlib.lines.Line2D at 0x1c08dff3d08>]"
      ]
     },
     "execution_count": 36,
     "metadata": {},
     "output_type": "execute_result"
    },
    {
     "data": {
      "image/png": "[encoded data removed]",
      "text/plain": [
       "<Figure size 432x288 with 1 Axes>"
      ]
     },
     "metadata": {
      "needs_background": "light"
     },
     "output_type": "display_data"
    }
   ],
   "source": [
    "print('MAPE (test):', MAPE(results['target_stay_duration'], results['prediction']))\n",
    "print('RMSE (test):', np.sqrt(mse(results['target_stay_duration'], results['prediction'])))\n",
    "print()\n",
    "\n",
    "print(np.corrcoef(results['target_stay_duration'], results['prediction']))\n",
    "print()\n",
    "\n",
    "plt.plot(results['target_stay_duration'], results['prediction'], 'o', markersize=0.5)"
   ]
  },
  {
   "cell_type": "code",
   "execution_count": 37,
   "metadata": {},
   "outputs": [
    {
     "name": "stdout",
     "output_type": "stream",
     "text": [
      "45.88237703449229\n"
     ]
    }
   ],
   "source": [
    "count = 0\n",
    "percentage = .5\n",
    "\n",
    "for i,j in zip(results['abs_error'].values, results['target_stay_duration'].values):\n",
    "    if (i>(percentage*j)):\n",
    "        count += 1\n",
    "\n",
    "print(100 - (100*count/len(results['abs_error'].values)))"
   ]
  },
  {
   "cell_type": "markdown",
   "metadata": {},
   "source": [
    "### Baseline"
   ]
  },
  {
   "cell_type": "code",
   "execution_count": 38,
   "metadata": {},
   "outputs": [],
   "source": [
    "baseline['prediction'] = np.exp(baseline['prediction']).fillna(baseline['prediction'].mean())\n",
    "baseline['target_stay_duration'] = np.exp(baseline['target_stay_duration'])\n",
    "\n",
    "baseline['error'] = baseline['target_stay_duration'] - baseline['prediction']\n",
    "baseline['abs_error'] = np.abs(baseline['target_stay_duration'] - baseline['prediction'])\n",
    "baseline['MAPE'] = baseline['abs_error'] / baseline['target_stay_duration']"
   ]
  },
  {
   "cell_type": "code",
   "execution_count": 39,
   "metadata": {},
   "outputs": [
    {
     "data": {
      "text/html": [
       "<div>\n",
       "<style scoped>\n",
       "    .dataframe tbody tr th:only-of-type {\n",
       "        vertical-align: middle;\n",
       "    }\n",
       "\n",
       "    .dataframe tbody tr th {\n",
       "        vertical-align: top;\n",
       "    }\n",
       "\n",
       "    .dataframe thead th {\n",
       "        text-align: right;\n",
       "    }\n",
       "</style>\n",
       "<table border=\"1\" class=\"dataframe\">\n",
       "  <thead>\n",
       "    <tr style=\"text-align: right;\">\n",
       "      <th></th>\n",
       "      <th>port_index</th>\n",
       "      <th>target_port_index</th>\n",
       "      <th>target_stay_duration</th>\n",
       "      <th>prediction</th>\n",
       "      <th>error</th>\n",
       "      <th>abs_error</th>\n",
       "      <th>MAPE</th>\n",
       "    </tr>\n",
       "  </thead>\n",
       "  <tbody>\n",
       "    <tr>\n",
       "      <th>count</th>\n",
       "      <td>195319.000000</td>\n",
       "      <td>195319.000000</td>\n",
       "      <td>195319.000000</td>\n",
       "      <td>195319.000000</td>\n",
       "      <td>195319.000000</td>\n",
       "      <td>195319.000000</td>\n",
       "      <td>1.953190e+05</td>\n",
       "    </tr>\n",
       "    <tr>\n",
       "      <th>mean</th>\n",
       "      <td>1665.428863</td>\n",
       "      <td>1663.023198</td>\n",
       "      <td>47.091011</td>\n",
       "      <td>26.357628</td>\n",
       "      <td>20.733383</td>\n",
       "      <td>38.263777</td>\n",
       "      <td>2.384070e+00</td>\n",
       "    </tr>\n",
       "    <tr>\n",
       "      <th>std</th>\n",
       "      <td>981.104498</td>\n",
       "      <td>977.398297</td>\n",
       "      <td>106.362343</td>\n",
       "      <td>35.675139</td>\n",
       "      <td>106.491469</td>\n",
       "      <td>101.519378</td>\n",
       "      <td>1.303737e+01</td>\n",
       "    </tr>\n",
       "    <tr>\n",
       "      <th>min</th>\n",
       "      <td>5.000000</td>\n",
       "      <td>5.000000</td>\n",
       "      <td>0.500278</td>\n",
       "      <td>0.550000</td>\n",
       "      <td>-1393.105278</td>\n",
       "      <td>0.000007</td>\n",
       "      <td>6.206440e-07</td>\n",
       "    </tr>\n",
       "    <tr>\n",
       "      <th>25%</th>\n",
       "      <td>843.000000</td>\n",
       "      <td>843.000000</td>\n",
       "      <td>6.933611</td>\n",
       "      <td>12.326236</td>\n",
       "      <td>-9.706607</td>\n",
       "      <td>4.412284</td>\n",
       "      <td>3.010165e-01</td>\n",
       "    </tr>\n",
       "    <tr>\n",
       "      <th>50%</th>\n",
       "      <td>1608.000000</td>\n",
       "      <td>1608.000000</td>\n",
       "      <td>17.000833</td>\n",
       "      <td>18.934963</td>\n",
       "      <td>-1.414884</td>\n",
       "      <td>10.965764</td>\n",
       "      <td>6.414725e-01</td>\n",
       "    </tr>\n",
       "    <tr>\n",
       "      <th>75%</th>\n",
       "      <td>2478.000000</td>\n",
       "      <td>2478.000000</td>\n",
       "      <td>41.134583</td>\n",
       "      <td>30.015948</td>\n",
       "      <td>14.548724</td>\n",
       "      <td>27.729870</td>\n",
       "      <td>1.234033e+00</td>\n",
       "    </tr>\n",
       "    <tr>\n",
       "      <th>max</th>\n",
       "      <td>3568.000000</td>\n",
       "      <td>3568.000000</td>\n",
       "      <td>1455.991944</td>\n",
       "      <td>1441.965556</td>\n",
       "      <td>1435.703376</td>\n",
       "      <td>1435.703376</td>\n",
       "      <td>2.764707e+03</td>\n",
       "    </tr>\n",
       "  </tbody>\n",
       "</table>\n",
       "</div>"
      ],
      "text/plain": [
       "          port_index  target_port_index  target_stay_duration     prediction  \\\n",
       "count  195319.000000      195319.000000         195319.000000  195319.000000   \n",
       "mean     1665.428863        1663.023198             47.091011      26.357628   \n",
       "std       981.104498         977.398297            106.362343      35.675139   \n",
       "min         5.000000           5.000000              0.500278       0.550000   \n",
       "25%       843.000000         843.000000              6.933611      12.326236   \n",
       "50%      1608.000000        1608.000000             17.000833      18.934963   \n",
       "75%      2478.000000        2478.000000             41.134583      30.015948   \n",
       "max      3568.000000        3568.000000           1455.991944    1441.965556   \n",
       "\n",
       "               error      abs_error          MAPE  \n",
       "count  195319.000000  195319.000000  1.953190e+05  \n",
       "mean       20.733383      38.263777  2.384070e+00  \n",
       "std       106.491469     101.519378  1.303737e+01  \n",
       "min     -1393.105278       0.000007  6.206440e-07  \n",
       "25%        -9.706607       4.412284  3.010165e-01  \n",
       "50%        -1.414884      10.965764  6.414725e-01  \n",
       "75%        14.548724      27.729870  1.234033e+00  \n",
       "max      1435.703376    1435.703376  2.764707e+03  "
      ]
     },
     "execution_count": 39,
     "metadata": {},
     "output_type": "execute_result"
    }
   ],
   "source": [
    "baseline.describe()"
   ]
  },
  {
   "cell_type": "code",
   "execution_count": 40,
   "metadata": {},
   "outputs": [
    {
     "name": "stdout",
     "output_type": "stream",
     "text": [
      "MAPE (test): 2.3840697354608014\n",
      "RMSE (test): 108.4907741949498\n",
      "\n",
      "[[1.         0.16408399]\n",
      " [0.16408399 1.        ]]\n",
      "\n"
     ]
    },
    {
     "data": {
      "text/plain": [
       "[<matplotlib.lines.Line2D at 0x1c09383dfc8>]"
      ]
     },
     "execution_count": 40,
     "metadata": {},
     "output_type": "execute_result"
    },
    {
     "data": {
      "image/png": "[encoded data removed]",
      "text/plain": [
       "<Figure size 432x288 with 1 Axes>"
      ]
     },
     "metadata": {
      "needs_background": "light"
     },
     "output_type": "display_data"
    }
   ],
   "source": [
    "print('MAPE (test):', MAPE(baseline['target_stay_duration'], baseline['prediction']))\n",
    "print('RMSE (test):', np.sqrt(mse(baseline['target_stay_duration'], baseline['prediction'])))\n",
    "print()\n",
    "\n",
    "print(np.corrcoef(baseline['target_stay_duration'], baseline['prediction']))\n",
    "print()\n",
    "\n",
    "plt.plot(baseline['target_stay_duration'], baseline['prediction'], 'o', markersize=0.5)"
   ]
  },
  {
   "cell_type": "code",
   "execution_count": 41,
   "metadata": {},
   "outputs": [
    {
     "name": "stdout",
     "output_type": "stream",
     "text": [
      "40.05293903818881\n"
     ]
    }
   ],
   "source": [
    "count = 0\n",
    "percentage = .5\n",
    "\n",
    "for i,j in zip(baseline['abs_error'].values, baseline['target_stay_duration'].values):\n",
    "    if (i>(percentage*j)):\n",
    "        count += 1\n",
    "\n",
    "print(100 - (100*count/len(baseline['abs_error'].values)))"
   ]
  },
  {
   "cell_type": "markdown",
   "metadata": {},
   "source": [
    "### Plot"
   ]
  },
  {
   "cell_type": "code",
   "execution_count": 42,
   "metadata": {},
   "outputs": [
    {
     "data": {
      "text/plain": [
       "count    195319.000000\n",
       "mean         27.090733\n",
       "std          25.900399\n",
       "min           1.106529\n",
       "25%          11.019235\n",
       "50%          19.651612\n",
       "75%          34.074206\n",
       "max         441.493171\n",
       "Name: prediction, dtype: float64"
      ]
     },
     "execution_count": 42,
     "metadata": {},
     "output_type": "execute_result"
    }
   ],
   "source": [
    "results['prediction'].describe()"
   ]
  },
  {
   "cell_type": "code",
   "execution_count": 43,
   "metadata": {},
   "outputs": [],
   "source": [
    "bins = [1, 2, 6, 12, 24, 48, 96, 168, 336]\n",
    "\n",
    "model_dict = {'MAPE': [],\n",
    "         'RMSE': []}\n",
    "prev_bin = 0\n",
    "for bin_ in bins:\n",
    "    data = results[(results['target_stay_duration'] < bin_)]\n",
    "    model_dict['MAPE'].append(MAPE(data['target_stay_duration'], data['prediction']))\n",
    "    model_dict['RMSE'].append(np.sqrt(mse(data['target_stay_duration'], data['prediction'])))\n",
    "    prev_bin = bin_    \n",
    "    \n",
    "    \n",
    "baseline_dict = {'MAPE': [],\n",
    "         'RMSE': []}\n",
    "prev_bin = 0\n",
    "for bin_ in bins:\n",
    "    data = baseline[(baseline['target_stay_duration'] < bin_)]\n",
    "    baseline_dict['MAPE'].append(MAPE(data['target_stay_duration'], data['prediction']))\n",
    "    baseline_dict['RMSE'].append(np.sqrt(mse(data['target_stay_duration'], data['prediction'])))\n",
    "    prev_bin = bin_\n",
    "    "
   ]
  },
  {
   "cell_type": "code",
   "execution_count": 44,
   "metadata": {},
   "outputs": [
    {
     "data": {
      "image/png": "[encoded data removed]",
      "text/plain": [
       "<Figure size 432x288 with 2 Axes>"
      ]
     },
     "metadata": {
      "needs_background": "light"
     },
     "output_type": "display_data"
    }
   ],
   "source": [
    "fig, ax = plt.subplots(nrows=2,ncols=1)\n",
    "\n",
    "plt.subplot(2,1,1)\n",
    "plt.ylabel('MAPE')\n",
    "plt.plot(bins, model_dict['MAPE'], color='red', label='Model')\n",
    "plt.plot(bins, baseline_dict['MAPE'], color='blue', label='Baseline')\n",
    "plt.tick_params(axis='y')\n",
    "plt.grid()\n",
    "plt.legend()\n",
    "\n",
    "plt.subplot(2,1,2)\n",
    "plt.xlabel('Stay Duration')\n",
    "plt.ylabel('RMSE') \n",
    "plt.plot(bins, model_dict['RMSE'], color='red', label='Model')\n",
    "plt.plot(bins, baseline_dict['RMSE'], color='blue', label='Baseline')\n",
    "plt.tick_params(axis='y')\n",
    "\n",
    "fig.tight_layout()\n",
    "plt.grid()\n",
    "plt.show()"
   ]
  },
  {
   "cell_type": "code",
   "execution_count": 45,
   "metadata": {},
   "outputs": [
    {
     "data": {
      "text/plain": [
       "count    195319.000000\n",
       "mean         47.091011\n",
       "std         106.362343\n",
       "min           0.500278\n",
       "25%           6.933611\n",
       "50%          17.000833\n",
       "75%          41.134583\n",
       "max        1455.991944\n",
       "Name: target_stay_duration, dtype: float64"
      ]
     },
     "execution_count": 45,
     "metadata": {},
     "output_type": "execute_result"
    }
   ],
   "source": [
    "results['target_stay_duration'].describe()"
   ]
  },
  {
   "cell_type": "code",
   "execution_count": null,
   "metadata": {},
   "outputs": [],
   "source": []
  }
 ],
 "metadata": {
  "kernelspec": {
   "display_name": "Python 3",
   "language": "python",
   "name": "python3"
  },
  "language_info": {
   "codemirror_mode": {
    "name": "ipython",
    "version": 3
   },
   "file_extension": ".py",
   "mimetype": "text/x-python",
   "name": "python",
   "nbconvert_exporter": "python",
   "pygments_lexer": "ipython3",
   "version": "3.7.4"
  }
 },
 "nbformat": 4,
 "nbformat_minor": 2
}
